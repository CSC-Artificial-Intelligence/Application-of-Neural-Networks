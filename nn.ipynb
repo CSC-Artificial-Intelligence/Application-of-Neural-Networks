{
  "cells": [
    {
      "cell_type": "markdown",
      "metadata": {
        "colab_type": "text",
        "id": "view-in-github"
      },
      "source": [
        "<a href=\"https://colab.research.google.com/github/CSC-Artificial-Intelligence/Application-of-Neural-Networks/blob/main/nn.ipynb\" target=\"_parent\"><img src=\"https://colab.research.google.com/assets/colab-badge.svg\" alt=\"Open In Colab\"/></a>"
      ]
    },
    {
      "cell_type": "code",
      "execution_count": 20,
      "metadata": {
        "id": "bMnZ4CCausdm"
      },
      "outputs": [],
      "source": [
        "import torch\n",
        "import torch.nn as nn\n",
        "import torch.optim as optim\n",
        "import torchvision\n",
        "import torchvision.transforms as transforms\n",
        "from torch.utils.data import DataLoader\n",
        "# import numpy as np\n",
        "# import matplotlib.pyplot as plt"
      ]
    },
    {
      "cell_type": "code",
      "execution_count": 21,
      "metadata": {
        "id": "uGG5Mh1qvExa"
      },
      "outputs": [],
      "source": [
        "# Define the transform with data augmentation\n",
        "transform = transforms.Compose([\n",
        "    transforms.ToTensor(),\n",
        "    transforms.Normalize((0.5, 0.5, 0.5), (0.5, 0.5, 0.5))\n",
        "])"
      ]
    },
    {
      "cell_type": "code",
      "execution_count": 22,
      "metadata": {
        "id": "BHvdvMoovLBa"
      },
      "outputs": [
        {
          "name": "stdout",
          "output_type": "stream",
          "text": [
            "Files already downloaded and verified\n"
          ]
        },
        {
          "name": "stdout",
          "output_type": "stream",
          "text": [
            "Files already downloaded and verified\n"
          ]
        }
      ],
      "source": [
        "# Load CIFAR-10 dataset\n",
        "train_dataset = torchvision.datasets.CIFAR10(root='./data', train=True, download=True, transform=transform)\n",
        "test_dataset = torchvision.datasets.CIFAR10(root='./data', train=False, download=True, transform=transform)\n",
        "\n",
        "train_loader = DataLoader(dataset=train_dataset, batch_size=32, shuffle=True)\n",
        "test_loader = DataLoader(dataset=test_dataset, batch_size=32, shuffle=True)"
      ]
    },
    {
      "cell_type": "code",
      "execution_count": 23,
      "metadata": {},
      "outputs": [],
      "source": [
        "class_names = [\n",
        "    \"airplane\",\t\t\t\t\t\t\t\t\t\t\n",
        "    \"automobile\",\t\t\t\t\t\t\t\t\t\t\n",
        "    \"bird\",\t\t\t\t\t\t\t\t\t\t\n",
        "    \"cat\",\t\t\t\t\t\t\t\t\t\t\n",
        "    \"deer\",\t\t\t\t\t\t\t\t\t\t\n",
        "    \"dog\",\t\t\t\t\t\t\t\t\t\t\n",
        "    \"frog\",\t\t\t\t\t\t\t\t\t\t\n",
        "    \"horse\",\t\t\t\t\t\t\t\t\t\t\n",
        "    \"ship\",\t\t\t\t\t\t\t\t\t\t\n",
        "    \"truck\",\n",
        "]"
      ]
    },
    {
      "cell_type": "code",
      "execution_count": 24,
      "metadata": {
        "colab": {
          "base_uri": "https://localhost:8080/"
        },
        "id": "KfyIjj-JAmJH",
        "outputId": "ae8eebe2-f203-412c-da5b-eeee14a99ad0"
      },
      "outputs": [],
      "source": [
        "\n",
        "\n",
        "# Define a simple CNN model\n",
        "class CNN(nn.Module):\n",
        "    def __init__(self):\n",
        "        super(CNN, self).__init__()\n",
        "        self.conv1 = nn.Conv2d(3, 12, 5)\n",
        "        self.pool = nn.MaxPool2d(2, 2)\n",
        "        self.conv2 = nn.Conv2d(12, 24, 5)\n",
        "        self.fc1 = nn.Linear(24 * 5 * 5, 120)\n",
        "        self.fc2 = nn.Linear(120, 84)\n",
        "        self.fc3 = nn.Linear(84, 10)\n",
        "\n",
        "    def forward(self, x):\n",
        "        x = self.pool(nn.ReLU()(self.conv1(x)))\n",
        "        x = self.pool(nn.ReLU()(self.conv2(x)))\n",
        "        x = torch.flatten(x, 1)\n",
        "        x = nn.ReLU()( self.fc1(x))\n",
        "        x = nn.ReLU()( self.fc2(x))        \n",
        "        x = self.fc3(x)\n",
        "        return x\n"
      ]
    },
    {
      "cell_type": "code",
      "execution_count": 25,
      "metadata": {},
      "outputs": [],
      "source": [
        "model = CNN()\n",
        "loss_function = nn.CrossEntropyLoss()\n",
        "optimizer = optim.SGD(model.parameters(), lr=0.001, momentum=0.9)\n"
      ]
    },
    {
      "cell_type": "code",
      "execution_count": 27,
      "metadata": {},
      "outputs": [
        {
          "name": "stdout",
          "output_type": "stream",
          "text": [
            "Epoch [1/50], Loss: 1.7747\n",
            "Epoch [2/50], Loss: 1.5022\n",
            "Epoch [3/50], Loss: 1.3886\n",
            "Epoch [4/50], Loss: 1.3015\n",
            "Epoch [5/50], Loss: 1.2291\n",
            "Epoch [6/50], Loss: 1.1662\n",
            "Epoch [7/50], Loss: 1.1080\n",
            "Epoch [8/50], Loss: 1.0600\n",
            "Epoch [9/50], Loss: 1.0157\n",
            "Epoch [10/50], Loss: 0.9710\n",
            "Epoch [11/50], Loss: 0.9272\n",
            "Epoch [12/50], Loss: 0.8951\n",
            "Epoch [13/50], Loss: 0.8594\n",
            "Epoch [14/50], Loss: 0.8282\n",
            "Epoch [15/50], Loss: 0.7973\n",
            "Epoch [16/50], Loss: 0.7692\n",
            "Epoch [17/50], Loss: 0.7390\n",
            "Epoch [18/50], Loss: 0.7128\n",
            "Epoch [19/50], Loss: 0.6872\n",
            "Epoch [20/50], Loss: 0.6620\n",
            "Epoch [21/50], Loss: 0.6379\n",
            "Epoch [22/50], Loss: 0.6112\n",
            "Epoch [23/50], Loss: 0.5933\n",
            "Epoch [24/50], Loss: 0.5714\n",
            "Epoch [25/50], Loss: 0.5454\n",
            "Epoch [26/50], Loss: 0.5272\n",
            "Epoch [27/50], Loss: 0.5050\n",
            "Epoch [28/50], Loss: 0.4853\n",
            "Epoch [29/50], Loss: 0.4680\n",
            "Epoch [30/50], Loss: 0.4495\n",
            "Epoch [31/50], Loss: 0.4295\n",
            "Epoch [32/50], Loss: 0.4103\n",
            "Epoch [33/50], Loss: 0.3895\n",
            "Epoch [34/50], Loss: 0.3759\n",
            "Epoch [35/50], Loss: 0.3562\n",
            "Epoch [36/50], Loss: 0.3437\n",
            "Epoch [37/50], Loss: 0.3267\n",
            "Epoch [38/50], Loss: 0.3133\n",
            "Epoch [39/50], Loss: 0.2970\n",
            "Epoch [40/50], Loss: 0.2893\n",
            "Epoch [41/50], Loss: 0.2687\n",
            "Epoch [42/50], Loss: 0.2637\n",
            "Epoch [43/50], Loss: 0.2455\n",
            "Epoch [44/50], Loss: 0.2383\n",
            "Epoch [45/50], Loss: 0.2204\n",
            "Epoch [46/50], Loss: 0.2067\n",
            "Epoch [47/50], Loss: 0.2070\n",
            "Epoch [48/50], Loss: 0.1971\n",
            "Epoch [49/50], Loss: 0.1811\n",
            "Epoch [50/50], Loss: 0.1686\n"
          ]
        }
      ],
      "source": [
        "num_epochs = 50\n",
        "\n",
        "for epoch in range(num_epochs):\n",
        "    model.train()  # Set model to training mode\n",
        "    running_loss = 0.0\n",
        "    correct = 0\n",
        "    total = 0\n",
        "\n",
        "    for i, data in enumerate(train_loader):\n",
        "        images, labels = data\n",
        "        optimizer.zero_grad()  # Clear gradients\n",
        "        outputs = model(images)  # Forward pass\n",
        "        loss = loss_function(outputs, labels)\n",
        "        loss.backward()  # Backward pass\n",
        "        optimizer.step()  # Update weights\n",
        "\n",
        "        running_loss += loss.item()\n",
        "\n",
        "\n",
        "    print(f'Epoch [{epoch + 1}/{num_epochs}], Loss: {running_loss/len(train_loader):.4f}')"
      ]
    },
    {
      "cell_type": "code",
      "execution_count": 28,
      "metadata": {},
      "outputs": [],
      "source": [
        "torch.save(model.state_dict(), \"trained_model.pth\")"
      ]
    },
    {
      "cell_type": "code",
      "execution_count": 29,
      "metadata": {},
      "outputs": [
        {
          "name": "stderr",
          "output_type": "stream",
          "text": [
            "/tmp/ipykernel_1893/538299269.py:2: FutureWarning: You are using `torch.load` with `weights_only=False` (the current default value), which uses the default pickle module implicitly. It is possible to construct malicious pickle data which will execute arbitrary code during unpickling (See https://github.com/pytorch/pytorch/blob/main/SECURITY.md#untrusted-models for more details). In a future release, the default value for `weights_only` will be flipped to `True`. This limits the functions that could be executed during unpickling. Arbitrary objects will no longer be allowed to be loaded via this mode unless they are explicitly allowlisted by the user via `torch.serialization.add_safe_globals`. We recommend you start setting `weights_only=True` for any use case where you don't have full control of the loaded file. Please open an issue on GitHub for any issues related to this experimental feature.\n",
            "  model.load_state_dict(torch.load(\"trained_model.pth\"))\n"
          ]
        },
        {
          "data": {
            "text/plain": [
              "<All keys matched successfully>"
            ]
          },
          "execution_count": 29,
          "metadata": {},
          "output_type": "execute_result"
        }
      ],
      "source": [
        "model = CNN()\n",
        "model.load_state_dict(torch.load(\"trained_model.pth\"))\n"
      ]
    },
    {
      "cell_type": "code",
      "execution_count": 30,
      "metadata": {},
      "outputs": [
        {
          "name": "stdout",
          "output_type": "stream",
          "text": [
            "Test Accuracy: 66.89%\n"
          ]
        }
      ],
      "source": [
        "\n",
        "# Evaluate on test set\n",
        "model.eval()  # Set model to evaluation mode\n",
        "correct = 0\n",
        "total = 0\n",
        "\n",
        "\n",
        "with torch.no_grad():\n",
        "    for data in test_loader:\n",
        "        images, labels = data\n",
        "        outputs = model(images)\n",
        "        _, predicted = torch.max(outputs.data, 1)\n",
        "        total += labels.size(0)\n",
        "        correct += (predicted == labels).sum().item()\n",
        "\n",
        "test_accuracy = 100 * correct / total\n",
        "print(f'Test Accuracy: {test_accuracy:.2f}%')"
      ]
    }
  ],
  "metadata": {
    "colab": {
      "authorship_tag": "ABX9TyO3E+TtcewpqeN/XSDmCKDR",
      "include_colab_link": true,
      "provenance": []
    },
    "kernelspec": {
      "display_name": ".venv",
      "language": "python",
      "name": "python3"
    },
    "language_info": {
      "codemirror_mode": {
        "name": "ipython",
        "version": 3
      },
      "file_extension": ".py",
      "mimetype": "text/x-python",
      "name": "python",
      "nbconvert_exporter": "python",
      "pygments_lexer": "ipython3",
      "version": "3.8.10"
    }
  },
  "nbformat": 4,
  "nbformat_minor": 0
}
